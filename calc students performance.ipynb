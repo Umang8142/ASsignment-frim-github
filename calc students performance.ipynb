{
 "cells": [
  {
   "cell_type": "code",
   "execution_count": 12,
   "id": "88b8af7c",
   "metadata": {},
   "outputs": [
    {
     "name": "stdout",
     "output_type": "stream",
     "text": [
      "umang\n",
      "90\n",
      "80\n",
      "40\n",
      "Sum of the marks is : 210\n",
      "The percentage is: 70.0\n"
     ]
    }
   ],
   "source": [
    "#implemting everythin\n",
    "Name = input()\n",
    "physics = int(input())\n",
    "chemistry = int(input())\n",
    "biology = int(input())\n",
    "\n",
    "#sum of marks\n",
    "Total = (physics +chemistry +biology)\n",
    "\n",
    "print(\"Sum of the marks is :\" , Total)\n",
    "\n",
    "#percentage\n",
    "percentage = (Total * 100/300)\n",
    "print(\"The percentage is:\" ,percentage)"
   ]
  },
  {
   "cell_type": "code",
   "execution_count": null,
   "id": "7f8ab2d2",
   "metadata": {},
   "outputs": [],
   "source": []
  },
  {
   "cell_type": "code",
   "execution_count": null,
   "id": "4f83ed60",
   "metadata": {},
   "outputs": [],
   "source": []
  }
 ],
 "metadata": {
  "kernelspec": {
   "display_name": "Python 3 (ipykernel)",
   "language": "python",
   "name": "python3"
  },
  "language_info": {
   "codemirror_mode": {
    "name": "ipython",
    "version": 3
   },
   "file_extension": ".py",
   "mimetype": "text/x-python",
   "name": "python",
   "nbconvert_exporter": "python",
   "pygments_lexer": "ipython3",
   "version": "3.10.2"
  }
 },
 "nbformat": 4,
 "nbformat_minor": 5
}
